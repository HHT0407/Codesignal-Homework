{
 "cells": [
  {
   "cell_type": "code",
   "execution_count": 1,
   "metadata": {},
   "outputs": [
    {
     "name": "stdout",
     "output_type": "stream",
     "text": [
      "大小順序為 [13, 17, 19, 20, 26, 27, 34, 666, 777]\n"
     ]
    }
   ],
   "source": [
    "def Quicksort(list):\n",
    "    smaller = []\n",
    "    bigger = []\n",
    "    center = []\n",
    "\n",
    "    if len(list) <= 1:  #當list只有一個或更少元素時直接return\n",
    "        return list \n",
    "\n",
    "    else :\n",
    "        major = list[0]\n",
    "        for i in list:\n",
    "            if i < major:\n",
    "                smaller.append(i)\n",
    "            elif i > major:\n",
    "                bigger.append(i)\n",
    "            else : \n",
    "                center.append(i)\n",
    "\n",
    "    smaller = Quicksort(smaller)\n",
    "    bigger = Quicksort(bigger)\n",
    "    return smaller + center + bigger\n",
    "Terry = [13,17,19,777,20,666,26,27,34]\n",
    "print (\"大小順序為\",Quicksort(Terry))"
   ]
  },
  {
   "cell_type": "code",
   "execution_count": null,
   "metadata": {},
   "outputs": [],
   "source": []
  }
 ],
 "metadata": {
  "kernelspec": {
   "display_name": "Python 3",
   "language": "python",
   "name": "python3"
  },
  "language_info": {
   "codemirror_mode": {
    "name": "ipython",
    "version": 3
   },
   "file_extension": ".py",
   "mimetype": "text/x-python",
   "name": "python",
   "nbconvert_exporter": "python",
   "pygments_lexer": "ipython3",
   "version": "3.7.0"
  }
 },
 "nbformat": 4,
 "nbformat_minor": 2
}
